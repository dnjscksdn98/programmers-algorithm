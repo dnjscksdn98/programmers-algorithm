{
 "cells": [
  {
   "cell_type": "markdown",
   "metadata": {},
   "source": [
    "### 3. 스택 큐 - 기능 개발"
   ]
  },
  {
   "cell_type": "markdown",
   "metadata": {},
   "source": [
    "**문제 설명**"
   ]
  },
  {
   "cell_type": "markdown",
   "metadata": {},
   "source": [
    "- 프로그래머스 팀에서는 기능 개선 작업을 수행 중입니다. 각 기능은 진도가 100%일 때 서비스에 반영할 수 있습니다.\n",
    "\n",
    "\n",
    "- 또, 각 기능의 개발속도는 모두 다르기 때문에 뒤에 있는 기능이 앞에 있는 기능보다 먼저 개발될 수 있고, 이때 뒤에 있는 기능은 앞에 있는 기능이 배포될 때 함께 배포됩니다.\n",
    "\n",
    "\n",
    "- 먼저 배포되어야 하는 순서대로 작업의 진도가 적힌 정수 배열 progresses와 각 작업의 개발 속도가 적힌 정수 배열 speeds가 주어질 때 각 배포마다 몇 개의 기능이 배포되는지를 return 하도록 solution 함수를 완성하세요."
   ]
  },
  {
   "cell_type": "markdown",
   "metadata": {},
   "source": [
    "**제한 사항**"
   ]
  },
  {
   "cell_type": "markdown",
   "metadata": {},
   "source": [
    "- 작업의 개수(progresses, speeds배열의 길이)는 100개 이하입니다.\n",
    "- 작업 진도는 100 미만의 자연수입니다.\n",
    "- 작업 속도는 100 이하의 자연수입니다.\n",
    "- 배포는 하루에 한 번만 할 수 있으며, 하루의 끝에 이루어진다고 가정합니다. 예를 들어 진도율이 95%인 작업의 개발 속도가 하루에 4%라면 배포는 2일 뒤에 이루어집니다."
   ]
  },
  {
   "cell_type": "markdown",
   "metadata": {},
   "source": [
    "**입출력 예**"
   ]
  },
  {
   "cell_type": "markdown",
   "metadata": {},
   "source": [
    "<table class=\"table\">\n",
    "        <thead><tr>\n",
    "<th>progresses</th>\n",
    "<th>speeds</th>\n",
    "<th>return</th>\n",
    "</tr>\n",
    "</thead>\n",
    "        <tbody><tr>\n",
    "<td>[93,30,55]</td>\n",
    "<td>[1,30,5]</td>\n",
    "<td>[2,1]</td>\n",
    "</tr>\n",
    "</tbody>\n",
    "      </table>"
   ]
  },
  {
   "cell_type": "markdown",
   "metadata": {},
   "source": [
    "**입출력 예 설명**"
   ]
  },
  {
   "cell_type": "markdown",
   "metadata": {},
   "source": [
    "- 첫 번째 기능은 93% 완료되어 있고 하루에 1%씩 작업이 가능하므로 7일간 작업 후 배포가 가능합니다.\n",
    "- 두 번째 기능은 30%가 완료되어 있고 하루에 30%씩 작업이 가능하므로 3일간 작업 후 배포가 가능합니다. 하지만 이전 첫 번째 기능이 아직 완성된 상태가 아니기 때문에 첫 번째 기능이 배포되는 7일째 배포됩니다.\n",
    "- 세 번째 기능은 55%가 완료되어 있고 하루에 5%씩 작업이 가능하므로 9일간 작업 후 배포가 가능합니다.\n",
    "\n",
    "- 따라서 7일째에 2개의 기능, 9일째에 1개의 기능이 배포됩니다."
   ]
  },
  {
   "cell_type": "markdown",
   "metadata": {},
   "source": [
    "**전략**"
   ]
  },
  {
   "cell_type": "markdown",
   "metadata": {},
   "source": [
    "- 모든 기능에 대해서 남은 시간((100-progresses) / speeds)을 계산합니다.\n",
    "- 남은 시간은 올림을 하게 되는데, 그 이유는 위의 입출력 예에서 두 번째와 같습니다.\n",
    "- 이후, 기능에 있는 값을 하나씩 선택해서(pop) 남아있는 기능들과 비교합니다.\n",
    "- 작거나 같은 값이 나오면, 갯수를 1씩 늘려주고 남은 기능에서 제거해줍니다.\n",
    "- 큰 값이 나오면, 갯수를 저장한 후 3부터 다시 진행해줍니다."
   ]
  },
  {
   "cell_type": "code",
   "execution_count": 3,
   "metadata": {},
   "outputs": [
    {
     "name": "stdout",
     "output_type": "stream",
     "text": [
      "[2, 1]\n"
     ]
    }
   ],
   "source": [
    "import math\n",
    "\n",
    "def solution(progresses, speeds):\n",
    "    results = list()\n",
    "    deploy_days = [math.ceil((100-p)/s) for p, s in zip(progresses, speeds)]\n",
    "    \n",
    "    while len(deploy_days) > 0:\n",
    "        \n",
    "        deploys_per_day = 1\n",
    "        current_deploy = deploy_days.pop(0)\n",
    "        temp = deploy_days.copy()\n",
    "        \n",
    "        for idx in range(len(deploy_days)):\n",
    "            if current_deploy >= deploy_days[idx]:\n",
    "                deploys_per_day += 1\n",
    "                temp.pop(0)\n",
    "            else:\n",
    "                break\n",
    "                \n",
    "        deploy_days = temp.copy()\n",
    "            \n",
    "        results.append(deploys_per_day)\n",
    "                \n",
    "    return results\n",
    "    \n",
    "\n",
    "print(solution([93, 30, 55], [1, 30, 5]))"
   ]
  }
 ],
 "metadata": {
  "kernelspec": {
   "display_name": "Python 3",
   "language": "python",
   "name": "python3"
  },
  "language_info": {
   "codemirror_mode": {
    "name": "ipython",
    "version": 3
   },
   "file_extension": ".py",
   "mimetype": "text/x-python",
   "name": "python",
   "nbconvert_exporter": "python",
   "pygments_lexer": "ipython3",
   "version": "3.6.9"
  }
 },
 "nbformat": 4,
 "nbformat_minor": 4
}

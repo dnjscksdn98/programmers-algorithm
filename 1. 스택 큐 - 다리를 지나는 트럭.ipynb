{
 "cells": [
  {
   "cell_type": "markdown",
   "metadata": {},
   "source": [
    "### 1. 스택 큐 - 다리를 지나는 트럭"
   ]
  },
  {
   "cell_type": "markdown",
   "metadata": {},
   "source": [
    "- 트럭 여러 대가 강을 가로지르는 일 차선 다리를 정해진 순으로 건너려 합니다. 모든 트럭이 다리를 건너려면 최소 몇 초가 걸리는지 알아내야 합니다. 트럭은 1초에 1만큼 움직이며, 다리 길이는 bridge_length이고 다리는 무게 weight까지 견딥니다.\n",
    "\n",
    "\n",
    "- 트럭이 다리에 완전히 오르지 않은 경우, 이 트럭의 무게는 고려하지 않습니다."
   ]
  },
  {
   "cell_type": "markdown",
   "metadata": {},
   "source": [
    "- 예를 들어, 길이가 2이고 10kg 무게를 견디는 다리가 있습니다. 무게가 [7, 4, 5, 6]kg인 트럭이 순서대로 최단 시간 안에 다리를 건너려면 다음과 같이 건너야 합니다."
   ]
  },
  {
   "cell_type": "markdown",
   "metadata": {},
   "source": [
    "<table class=\"table\">\n",
    "        <thead><tr>\n",
    "<th>경과 시간</th>\n",
    "<th>다리를 지난 트럭</th>\n",
    "<th>다리를 건너는 트럭</th>\n",
    "<th>대기 트럭</th>\n",
    "</tr>\n",
    "</thead>\n",
    "        <tbody><tr>\n",
    "<td>0</td>\n",
    "<td>[]</td>\n",
    "<td>[]</td>\n",
    "<td>[7,4,5,6]</td>\n",
    "</tr>\n",
    "<tr>\n",
    "<td>1~2</td>\n",
    "<td>[]</td>\n",
    "<td>[7]</td>\n",
    "<td>[4,5,6]</td>\n",
    "</tr>\n",
    "<tr>\n",
    "<td>3</td>\n",
    "<td>[7]</td>\n",
    "<td>[4]</td>\n",
    "<td>[5,6]</td>\n",
    "</tr>\n",
    "<tr>\n",
    "<td>4</td>\n",
    "<td>[7]</td>\n",
    "<td>[4,5]</td>\n",
    "<td>[6]</td>\n",
    "</tr>\n",
    "<tr>\n",
    "<td>5</td>\n",
    "<td>[7,4]</td>\n",
    "<td>[5]</td>\n",
    "<td>[6]</td>\n",
    "</tr>\n",
    "<tr>\n",
    "<td>6~7</td>\n",
    "<td>[7,4,5]</td>\n",
    "<td>[6]</td>\n",
    "<td>[]</td>\n",
    "</tr>\n",
    "<tr>\n",
    "<td>8</td>\n",
    "<td>[7,4,5,6]</td>\n",
    "<td>[]</td>\n",
    "<td>[]</td>\n",
    "</tr>\n",
    "</tbody>\n",
    "      </table>"
   ]
  },
  {
   "cell_type": "markdown",
   "metadata": {},
   "source": [
    "- 따라서, 모든 트럭이 다리를 지나려면 최소 8초가 걸립니다.\n",
    "\n",
    "- solution 함수의 매개변수로 다리 길이 bridge_length, 다리가 견딜 수 있는 무게 weight, 트럭별 무게 truck_weights가 주어집니다. 이때 모든 트럭이 다리를 건너려면 최소 몇 초가 걸리는지 return 하도록 solution 함수를 완성하세요."
   ]
  },
  {
   "cell_type": "markdown",
   "metadata": {},
   "source": [
    "**제한조건**\n",
    "- bridge_length는 1 이상 10,000 이하입니다.\n",
    "- weight는 1 이상 10,000 이하입니다.\n",
    "- truck_weights의 길이는 1 이상 10,000 이하입니다.\n",
    "- 모든 트럭의 무게는 1 이상 weight 이하입니다."
   ]
  },
  {
   "cell_type": "markdown",
   "metadata": {},
   "source": [
    "**입출력 예**\n",
    "<table class=\"table\">\n",
    "        <thead><tr>\n",
    "<th>bridge_length</th>\n",
    "<th>weight</th>\n",
    "<th>truck_weights</th>\n",
    "<th>return</th>\n",
    "</tr>\n",
    "</thead>\n",
    "        <tbody><tr>\n",
    "<td>2</td>\n",
    "<td>10</td>\n",
    "<td>[7,4,5,6]</td>\n",
    "<td>8</td>\n",
    "</tr>\n",
    "<tr>\n",
    "<td>100</td>\n",
    "<td>100</td>\n",
    "<td>[10]</td>\n",
    "<td>101</td>\n",
    "</tr>\n",
    "<tr>\n",
    "<td>100</td>\n",
    "<td>100</td>\n",
    "<td>[10,10,10,10,10,10,10,10,10,10]</td>\n",
    "<td>110</td>\n",
    "</tr>\n",
    "</tbody>\n",
    "      </table>"
   ]
  },
  {
   "cell_type": "code",
   "execution_count": 3,
   "metadata": {},
   "outputs": [
    {
     "name": "stdout",
     "output_type": "stream",
     "text": [
      "8\n",
      "101\n",
      "110\n"
     ]
    }
   ],
   "source": [
    "def solution(bridge_length, weight, truck_weights):\n",
    "    bridge = [0 for _ in range(bridge_length)]  # 큐\n",
    "    total_time = 0  # 걸린 시간\n",
    "    \n",
    "    bridge[-1] = truck_weights.pop(0)\n",
    "    current_weight = sum(bridge)\n",
    "    total_time += 1\n",
    "    \n",
    "    while True:\n",
    "        if current_weight == 0 and len(truck_weights) == 0:\n",
    "            break\n",
    "        \n",
    "        if bridge[0] != 0:  # 다리 끝에 트럭이 있으면\n",
    "            bridge[0] = 0  # 트럭 건너기 성공\n",
    "            current_weight = sum(bridge)  # 다리 무게 업데이트\n",
    "            \n",
    "        # 한칸씩 앞으로 이동\n",
    "        temp = bridge[0]\n",
    "        bridge = bridge[1:]\n",
    "        bridge.append(temp)\n",
    "        \n",
    "        # 다리의 무게가 다음 트럭을 견딜 수 있으면\n",
    "        if len(truck_weights) != 0:\n",
    "            if (current_weight + truck_weights[0]) <= weight:\n",
    "                bridge[-1] = truck_weights.pop(0)\n",
    "                current_weight = sum(bridge)  # 다리 무게 업데이트\n",
    "            \n",
    "        total_time += 1  # 걸린 시간 업데이트\n",
    "        \n",
    "    return total_time\n",
    "\n",
    "\n",
    "print(solution(2, 10, [7, 4, 5, 6]))\n",
    "print(solution(100, 100, [10]))\n",
    "print(solution(100, 100, [10,10,10,10,10,10,10,10,10,10]))"
   ]
  }
 ],
 "metadata": {
  "kernelspec": {
   "display_name": "Python 3",
   "language": "python",
   "name": "python3"
  },
  "language_info": {
   "codemirror_mode": {
    "name": "ipython",
    "version": 3
   },
   "file_extension": ".py",
   "mimetype": "text/x-python",
   "name": "python",
   "nbconvert_exporter": "python",
   "pygments_lexer": "ipython3",
   "version": "3.6.9"
  }
 },
 "nbformat": 4,
 "nbformat_minor": 4
}

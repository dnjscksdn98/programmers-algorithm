{
 "cells": [
  {
   "cell_type": "markdown",
   "metadata": {},
   "source": [
    "### 2. 스택 큐 - 탑"
   ]
  },
  {
   "cell_type": "markdown",
   "metadata": {},
   "source": [
    "- 수평 직선에 탑 N대를 세웠습니다. 모든 탑의 꼭대기에는 신호를 송/수신하는 장치를 설치했습니다. 발사한 신호는 신호를 보낸 탑보다 높은 탑에서만 수신합니다. 또한, 한 번 수신된 신호는 다른 탑으로 송신되지 않습니다."
   ]
  },
  {
   "cell_type": "markdown",
   "metadata": {},
   "source": [
    "- 예를 들어 높이가 6, 9, 5, 7, 4인 다섯 탑이 왼쪽으로 동시에 레이저 신호를 발사합니다. 그러면, 탑은 다음과 같이 신호를 주고받습니다. 높이가 4인 다섯 번째 탑에서 발사한 신호는 높이가 7인 네 번째 탑이 수신하고, 높이가 7인 네 번째 탑의 신호는 높이가 9인 두 번째 탑이, 높이가 5인 세 번째 탑의 신호도 높이가 9인 두 번째 탑이 수신합니다. 높이가 9인 두 번째 탑과 높이가 6인 첫 번째 탑이 보낸 레이저 신호는 어떤 탑에서도 수신할 수 없습니다."
   ]
  },
  {
   "cell_type": "markdown",
   "metadata": {},
   "source": [
    "<table class=\"table\" style=\"width: 400px\">\n",
    "        <thead><tr>\n",
    "<th>송신 탑(높이)</th>\n",
    "<th>수신 탑(높이)</th>\n",
    "</tr>\n",
    "</thead>\n",
    "        <tbody><tr>\n",
    "<td>5(4)</td>\n",
    "<td>4(7)</td>\n",
    "</tr>\n",
    "<tr>\n",
    "<td>4(7)</td>\n",
    "<td>2(9)</td>\n",
    "</tr>\n",
    "<tr>\n",
    "<td>3(5)</td>\n",
    "<td>2(9)</td>\n",
    "</tr>\n",
    "<tr>\n",
    "<td>2(9)</td>\n",
    "<td>-</td>\n",
    "</tr>\n",
    "<tr>\n",
    "<td>1(6)</td>\n",
    "<td>-</td>\n",
    "</tr>\n",
    "</tbody>\n",
    "      </table>"
   ]
  },
  {
   "cell_type": "markdown",
   "metadata": {},
   "source": [
    "- 맨 왼쪽부터 순서대로 탑의 높이를 담은 배열 heights가 매개변수로 주어질 때 각 탑이 쏜 신호를 어느 탑에서 받았는지 기록한 배열을 return 하도록 solution 함수를 작성해주세요."
   ]
  },
  {
   "cell_type": "markdown",
   "metadata": {},
   "source": [
    "**제한 사항**\n",
    "- heights는 길이 2 이상 100 이하인 정수 배열입니다.\n",
    "- 모든 탑의 높이는 1 이상 100 이하입니다.\n",
    "- 신호를 수신하는 탑이 없으면 0으로 표시합니다."
   ]
  },
  {
   "cell_type": "markdown",
   "metadata": {},
   "source": [
    "**입출력 예**"
   ]
  },
  {
   "cell_type": "markdown",
   "metadata": {},
   "source": [
    "<table class=\"table\" style=\"width: 500px\">\n",
    "        <thead><tr>\n",
    "<th>heights</th>\n",
    "<th>return</th>\n",
    "</tr>\n",
    "</thead>\n",
    "        <tbody><tr>\n",
    "<td>[6,9,5,7,4]</td>\n",
    "<td>[0,0,2,2,4]</td>\n",
    "</tr>\n",
    "<tr>\n",
    "<td>[3,9,9,3,5,7,2]</td>\n",
    "<td>[0,0,0,3,3,3,6]</td>\n",
    "</tr>\n",
    "<tr>\n",
    "<td>[1,5,3,6,7,6,5]</td>\n",
    "<td>[0,0,2,0,0,5,6]</td>\n",
    "</tr>\n",
    "</tbody>\n",
    "      </table>"
   ]
  },
  {
   "cell_type": "code",
   "execution_count": 1,
   "metadata": {},
   "outputs": [
    {
     "name": "stdout",
     "output_type": "stream",
     "text": [
      "[0, 0, 2, 2, 4]\n",
      "[0, 0, 0, 3, 3, 3, 6]\n",
      "[0, 0, 2, 0, 0, 5, 6]\n"
     ]
    }
   ],
   "source": [
    "def solution(heights):\n",
    "    checked = [0 for _ in range(len(heights))]  # 각 탑의 수신 상태\n",
    "    results = list()  # 수신 결과\n",
    "    \n",
    "    for i in range(len(heights) - 1, -1, -1):\n",
    "        check = False\n",
    "        for k in range(i - 1, -1, -1):\n",
    "            if heights[k] > heights[i] and checked[k] == 0:\n",
    "                results.append(k + 1)\n",
    "                check = True\n",
    "                break\n",
    "                \n",
    "        if not check:\n",
    "            results.append(0)\n",
    "            \n",
    "    return list(reversed(results))\n",
    "            \n",
    "print(solution([6, 9, 5, 7, 4]))\n",
    "print(solution([3, 9, 9, 3, 5, 7, 2]))\n",
    "print(solution([1, 5, 3, 6, 7, 6, 5]))"
   ]
  }
 ],
 "metadata": {
  "kernelspec": {
   "display_name": "Python 3",
   "language": "python",
   "name": "python3"
  },
  "language_info": {
   "codemirror_mode": {
    "name": "ipython",
    "version": 3
   },
   "file_extension": ".py",
   "mimetype": "text/x-python",
   "name": "python",
   "nbconvert_exporter": "python",
   "pygments_lexer": "ipython3",
   "version": "3.6.9"
  }
 },
 "nbformat": 4,
 "nbformat_minor": 4
}
